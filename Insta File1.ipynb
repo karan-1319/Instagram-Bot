{
 "cells": [
  {
   "cell_type": "code",
   "execution_count": 1,
   "id": "edee412d",
   "metadata": {},
   "outputs": [],
   "source": [
    "from time import sleep\n",
    "from bs4 import BeautifulSoup \n",
    "from selenium import webdriver\n",
    "from selenium.webdriver.common.by import By\n",
    "from selenium.webdriver.support.ui import WebDriverWait\n",
    "from selenium.webdriver.support import expected_conditions as EC\n",
    "from selenium.common.exceptions import TimeoutException\n",
    "from selenium.common.exceptions import NoSuchElementException"
   ]
  },
  {
   "cell_type": "code",
   "execution_count": 2,
   "id": "27b6aa48",
   "metadata": {},
   "outputs": [],
   "source": [
    "# opening the browser by giving the path of chromeDriver\n",
    "driver = webdriver.Chrome()"
   ]
  },
  {
   "cell_type": "code",
   "execution_count": 3,
   "id": "c583a83f",
   "metadata": {},
   "outputs": [],
   "source": [
    "# opening instagram\n",
    "driver.get('https://www.instagram.com/accounts/login/')"
   ]
  },
  {
   "cell_type": "code",
   "execution_count": 4,
   "id": "3234e04f",
   "metadata": {},
   "outputs": [],
   "source": [
    "# maximize the window\n",
    "driver.maximize_window()"
   ]
  },
  {
   "cell_type": "code",
   "execution_count": 5,
   "id": "19b9debc",
   "metadata": {},
   "outputs": [],
   "source": [
    "# initisalize explicit wait\n",
    "wait = WebDriverWait(driver,10)"
   ]
  },
  {
   "cell_type": "code",
   "execution_count": 6,
   "id": "3a0f7caf",
   "metadata": {},
   "outputs": [],
   "source": [
    "\n"
   ]
  },
  {
   "cell_type": "code",
   "execution_count": 7,
   "id": "164fb691",
   "metadata": {},
   "outputs": [],
   "source": [
    "def Login_To_Insta(userName,Password):\n",
    "    try:\n",
    "        # Locating Username TextBox then enter username\n",
    "        wait.until(EC.presence_of_element_located((By.NAME,\"username\"))).send_keys(userName)\n",
    "\n",
    "        # Locating Password TextBox then enter password\n",
    "        wait.until(EC.presence_of_element_located((By.NAME,\"password\"))).send_keys(Password)\n",
    "\n",
    "        # Locating Login Button then submit it\n",
    "        wait.until(EC.presence_of_element_located((By.XPATH,\"/html/body/div[2]/div/div/div[2]/div/div/div[1]/section/main/div/div/div[1]/div[2]/form/div/div[3]\"))).submit()\n",
    "        \n",
    "        # Locating Save your Login Info ? then click on Not now\n",
    "        wait.until(EC.presence_of_element_located((By.XPATH,\"/html/body/div[2]/div/div/div[2]/div/div/div[1]/div[1]/div[2]/section/main/div/div/div/div/div\"))).click()\n",
    "        \n",
    "        # Locating Turn on Notification : then click on No\n",
    "        wait.until(EC.presence_of_element_located((By.XPATH,\"/html/body/div[3]/div[1]/div/div[2]/div/div/div/div/div[2]/div/div/div[3]/button[2]\"))).click()\n",
    "\n",
    "    except TimeoutException:\n",
    "        print(\"Something Went Wrong!\")"
   ]
  },
  {
   "cell_type": "code",
   "execution_count": 8,
   "id": "ad67c5c8",
   "metadata": {},
   "outputs": [],
   "source": [
    "#Login to your Instagram Handle\n",
    "Login_To_Insta(userName,Password)"
   ]
  },
  {
   "cell_type": "markdown",
   "id": "3f4c69aa",
   "metadata": {},
   "source": [
    "# Problem 1 : Type for “food” in search\n",
    "Type for “food” in search bar and print all the names of the Instagram Handles that are displayed in list after typing “food” bar and print all the names of the Instagram Handles that are displayed in list after typing “food”\n",
    "Note : Make sure to avoid printing hashtags"
   ]
  },
  {
   "cell_type": "code",
   "execution_count": 9,
   "id": "d6229a3a",
   "metadata": {},
   "outputs": [],
   "source": [
    "def Search(string):\n",
    "    \n",
    "    try:\n",
    "        # Locating Search bar then click on it\n",
    "        wait.until(EC.presence_of_element_located((By.XPATH,\"/html/body/div[2]/div/div/div[2]/div/div/div[1]/div[1]/div[1]/div/div/div/div/div[2]/div[2]\"))).click()\n",
    "\n",
    "        # Locating Search TextBox then enter search string\n",
    "        wait.until(EC.presence_of_element_located((By.XPATH,\"/html/body/div[2]/div/div/div[2]/div/div/div[1]/div[1]/div[1]/div/div/div[2]/div/div/div[2]/div/div/div[1]/div/div/input\"))).send_keys(string)\n",
    "        \n",
    "        # Find all Search handle\n",
    "        data=wait.until(EC.presence_of_all_elements_located((By.XPATH,\"/html/body/div[2]/div/div/div[2]/div/div/div[1]/div[1]/div[1]/div/div/div[2]/div/div/div[2]/div/div/div[2]/div/a\")))\n",
    "\n",
    "         # Iterate over search handle and extract the text and print by ignored hashtag\n",
    "        for i in data:\n",
    "            if i.text[0]!='#':\n",
    "                print(i.text.split('\\n')[0])\n",
    "        \n",
    "\n",
    "        sleep(6)\n",
    "    except TimeoutException:\n",
    "        print(\"Something Went Wrong!\")"
   ]
  },
  {
   "cell_type": "code",
   "execution_count": 10,
   "id": "0e6a6bdf",
   "metadata": {},
   "outputs": [
    {
     "name": "stdout",
     "output_type": "stream",
     "text": [
      "food_dot_com_cloudkitchen\n",
      "foodtalkindia\n",
      "foodi_epaaji\n",
      "foodpharmer\n",
      "foodiee_ishh\n",
      "dilsefoodie\n",
      "food\n",
      "foodies.on.hunt\n",
      "food_gasmic_famous\n",
      "food.fanatic_\n",
      "foodpicasso\n",
      "food_vlogger_india\n",
      "foodie_jagjeetsingh\n",
      "foodiekanyatales\n",
      "_food_snaps\n",
      "foodrush.recipe\n",
      "food.darzee\n",
      "food_lunatic\n",
      "food_mehkma\n",
      "FOOD BAZAR\n",
      "ajmerfoodie\n",
      "delhifoodwalks\n",
      "yourfoodlab\n",
      "food_founder_\n",
      "athenstravel\n",
      "the.food.cravers\n",
      "theclassyfoodophile\n",
      "bhopalfoodwalks\n",
      "jalandharfoodiess\n",
      "foodpandits\n",
      "yummy_n_healthy_food_recipe\n",
      "amsterdam.explores\n",
      "switzerland.explores\n",
      "iceland.explore\n",
      "foodies_hood\n",
      "the.foodzen\n",
      "rosier.foods\n",
      "foody.soul\n",
      "bhukkad_belly\n",
      "foodiebliss09\n",
      "foodnetwork\n",
      "eatwithshre\n",
      "foodzilla_brampton\n",
      "manjinder_vlogs_\n",
      "foodbloggers01\n",
      "richaaggarwal_\n",
      "foodadda1\n",
      "foodhunt_with_shubham\n",
      "Food Court\n",
      "mumbaifoodie\n",
      "FOOD Factory\n",
      "foodiebhopali\n"
     ]
    }
   ],
   "source": [
    "Search(\"food\")"
   ]
  },
  {
   "cell_type": "markdown",
   "id": "30916ef2",
   "metadata": {},
   "source": [
    "# Problem 2 : Searching and Opening a profile\n",
    "Searching and Opening a profile using \n",
    "Open profile of “So Delhi” "
   ]
  },
  {
   "cell_type": "code",
   "execution_count": 11,
   "id": "e0498063",
   "metadata": {},
   "outputs": [],
   "source": [
    "def Search_and_Open_Profile(string):\n",
    "    try:\n",
    "        # Locating Search bar then click on it\n",
    "        wait.until(EC.presence_of_element_located((By.XPATH,\"/html/body/div[2]/div/div/div[2]/div/div/div[1]/div[1]/div[1]/div/div/div/div/div[2]/div[2]\"))).click()\n",
    "        sleep(2)\n",
    "        # Locating Search TextBox then enter search string\n",
    "        wait.until(EC.presence_of_element_located((By.XPATH,\"/html/body/div[2]/div/div/div[2]/div/div/div[1]/div[1]/div[1]/div/div/div[2]/div/div/div[2]/div/div/div[1]/div/div/input\"))).send_keys(string)\n",
    "        sleep(5)\n",
    "        # Find all Search handle and click on it\n",
    "        wait.until(EC.presence_of_element_located((By.XPATH,\"/html/body/div[2]/div/div/div[2]/div/div/div[1]/div[1]/div[1]/div/div/div[2]/div/div/div[2]/div/div/div[2]/div/a[1]/div[1]/div\"))).click()\n",
    "\n",
    "\n",
    "#         sleep(5)\n",
    "#         # Back to previous page\n",
    "#         driver.back()\n",
    "    except TimeoutException:\n",
    "        print(\"Something Went Wrong!\")"
   ]
  },
  {
   "cell_type": "code",
   "execution_count": 13,
   "id": "07860390",
   "metadata": {},
   "outputs": [],
   "source": [
    "Search_and_Open_Profile('So Delhi')"
   ]
  },
  {
   "cell_type": "markdown",
   "id": "8075514d",
   "metadata": {},
   "source": [
    "# Problem 3 : Follow/Unfollow given handle -\n",
    "Open the Instagram Handle of “So Delhi”\n",
    "Start following it. Print a message if you are already following\n",
    "After following, unfollow the instagram handle. Print a message if you have already unfollowed"
   ]
  },
  {
   "cell_type": "code",
   "execution_count": 14,
   "id": "408ebf8a",
   "metadata": {},
   "outputs": [],
   "source": [
    "def Follow():\n",
    "    try:\n",
    "        # Locating Follow Button\n",
    "        Handle = wait.until(EC.presence_of_element_located((By.XPATH,\"/html/body/div[2]/div/div/div[2]/div/div/div[1]/div[2]/div/div[2]/section/main/div/header/section[2]/div/div/div[2]/div/div[1]/button\")))\n",
    "\n",
    "        # check already follow or not\n",
    "        if Handle.text=='Follow':\n",
    "\n",
    "            # not following so that follow it\n",
    "            sleep(3)\n",
    "            Handle.click()\n",
    "        else:\n",
    "            print('Already following')\n",
    "    except TimeoutException:\n",
    "        print(\"Something Went Wrong!\")"
   ]
  },
  {
   "cell_type": "code",
   "execution_count": 15,
   "id": "07e1a72e",
   "metadata": {},
   "outputs": [],
   "source": [
    "def Unfollow():\n",
    "    \n",
    "    try:\n",
    "        \n",
    "        # Locating Follow Button\n",
    "        Handle = wait.until(EC.presence_of_element_located((By.XPATH,\"/html/body/div[2]/div/div/div[2]/div/div/div[1]/div[2]/div/div[2]/section/main/div/header/section[2]/div/div/div[2]/div/div[1]/button\")))\n",
    "\n",
    "        # check already follow or not\n",
    "        if Handle.text=='Follow':\n",
    "            print('Already unfollowed')\n",
    "\n",
    "        else:\n",
    "            # if following so that unfollow it\n",
    "            Handle.click()\n",
    "            sleep(5)\n",
    "            wait.until(EC.presence_of_element_located((By.XPATH,\"/html/body/div[6]/div[2]/div/div/div[1]/div/div[2]/div/div/div/div/div[2]/div/div/div/div[8]/div[1]/div/div/div[1]/div/div/span\"))).click()\n",
    "    except TimeoutException:\n",
    "        print(\"Something Went Wrong!\")"
   ]
  },
  {
   "cell_type": "code",
   "execution_count": 17,
   "id": "825b61c5",
   "metadata": {},
   "outputs": [],
   "source": [
    "# Search so Delhi and open it\n",
    "Search_and_Open_Profile('So Delhi')\n",
    "sleep(5)\n",
    "\n",
    "# Following it\n",
    "Follow()\n",
    "sleep(5)\n"
   ]
  },
  {
   "cell_type": "code",
   "execution_count": 18,
   "id": "f08bc206",
   "metadata": {},
   "outputs": [],
   "source": [
    "# Unfollowing it\n",
    "Unfollow()"
   ]
  },
  {
   "cell_type": "markdown",
   "id": "bb47260a",
   "metadata": {},
   "source": [
    "# Problem 4 : Extract list of followers\n",
    "Extract the usernames of the first 50 followers of ‘foodtalkindia’ and ‘sodelhi’.\n",
    "Now print all the followers of “foodtalkindia” that you are following but those who don’t follow you.\n",
    "Extract the usernames of the first 50 followers of ‘foodtalkindia’ and ‘sodelhi’."
   ]
  },
  {
   "cell_type": "code",
   "execution_count": 21,
   "id": "e4284e09",
   "metadata": {},
   "outputs": [],
   "source": [
    "def Extract_list_of_followers():\n",
    "    \n",
    "    try:\n",
    "        # Locating the Followers button and click on it\n",
    "        wait.until(EC.presence_of_element_located((By.XPATH,'/html/body/div[2]/div/div/div[2]/div/div/div[1]/div[2]/div/div[2]/section/main/div/header/section[3]/ul/li[2]/div/a'))).click()\n",
    "\n",
    "        # getting the handle of all List of user\n",
    "        All_User = []\n",
    "\n",
    "        sleep(5)\n",
    "        \n",
    "        for i in range(1, 51):\n",
    "            try:\n",
    "                handle = driver.find_element(By.XPATH,f'/html/body/div[6]/div[2]/div/div/div[1]/div/div[2]/div/div/div/div/div[2]/div/div/div[2]/div[2]/div/div[{i}]/div/div/div/div[2]/div/div/div/div/div/a/div/div/span')\n",
    "            except NoSuchElementException:\n",
    "                handle = driver.find_element(By.XPATH,f'/html/body/div[7]/div[2]/div/div/div[1]/div/div[2]/div/div/div/div/div[2]/div/div/div[2]/div[2]/div/div[{i}]/div/div/div/div[2]/div/div/div/div/div/a/div/div/span')\n",
    "                                                        \n",
    "            All_User.append(handle.text.split('\\n')[0])\n",
    "        print(All_User)\n",
    "\n",
    "        sleep(1)\n",
    "        # Locating Cross Button and click on \n",
    "        driver.find_element(By.XPATH,'//div[@class=\"_ac7b _ac7d\"]/div/button').click()\n",
    "        \n",
    "        return All_User\n",
    "    \n",
    "    except TimeoutException:\n",
    "        print(\"Something Went Wrong!\")\n",
    "    \n",
    "    \n",
    "    "
   ]
  },
  {
   "cell_type": "code",
   "execution_count": 23,
   "id": "e4848f97",
   "metadata": {},
   "outputs": [
    {
     "name": "stdout",
     "output_type": "stream",
     "text": [
      "['funfoodienomads', 'funfoodienomads', 'funfoodienomads', 'funfoodienomads', 'funfoodienomads', 'funfoodienomads', 'funfoodienomads', 'funfoodienomads', 'funfoodienomads', 'funfoodienomads', 'funfoodienomads', 'funfoodienomads', 'funfoodienomads', 'funfoodienomads', 'funfoodienomads', 'funfoodienomads', 'funfoodienomads', 'funfoodienomads', 'funfoodienomads', 'funfoodienomads', 'funfoodienomads', 'funfoodienomads', 'funfoodienomads', 'funfoodienomads', 'funfoodienomads', 'funfoodienomads', 'funfoodienomads', 'funfoodienomads', 'funfoodienomads', 'funfoodienomads', 'funfoodienomads', 'funfoodienomads', 'funfoodienomads', 'funfoodienomads', 'funfoodienomads', 'funfoodienomads', 'funfoodienomads', 'funfoodienomads', 'funfoodienomads', 'funfoodienomads', 'funfoodienomads', 'funfoodienomads', 'funfoodienomads', 'funfoodienomads', 'funfoodienomads', 'funfoodienomads', 'funfoodienomads', 'funfoodienomads', 'funfoodienomads', 'funfoodienomads']\n",
      "1 funfoodienomads\n",
      "2 funfoodienomads\n",
      "3 funfoodienomads\n",
      "4 funfoodienomads\n",
      "5 funfoodienomads\n",
      "6 funfoodienomads\n",
      "7 funfoodienomads\n",
      "8 funfoodienomads\n",
      "9 funfoodienomads\n",
      "10 funfoodienomads\n",
      "11 funfoodienomads\n",
      "12 funfoodienomads\n",
      "13 funfoodienomads\n",
      "14 funfoodienomads\n",
      "15 funfoodienomads\n",
      "16 funfoodienomads\n",
      "17 funfoodienomads\n",
      "18 funfoodienomads\n",
      "19 funfoodienomads\n",
      "20 funfoodienomads\n",
      "21 funfoodienomads\n",
      "22 funfoodienomads\n",
      "23 funfoodienomads\n",
      "24 funfoodienomads\n",
      "25 funfoodienomads\n",
      "26 funfoodienomads\n",
      "27 funfoodienomads\n",
      "28 funfoodienomads\n",
      "29 funfoodienomads\n",
      "30 funfoodienomads\n",
      "31 funfoodienomads\n",
      "32 funfoodienomads\n",
      "33 funfoodienomads\n",
      "34 funfoodienomads\n",
      "35 funfoodienomads\n",
      "36 funfoodienomads\n",
      "37 funfoodienomads\n",
      "38 funfoodienomads\n",
      "39 funfoodienomads\n",
      "40 funfoodienomads\n",
      "41 funfoodienomads\n",
      "42 funfoodienomads\n",
      "43 funfoodienomads\n",
      "44 funfoodienomads\n",
      "45 funfoodienomads\n",
      "46 funfoodienomads\n",
      "47 funfoodienomads\n",
      "48 funfoodienomads\n",
      "49 funfoodienomads\n",
      "50 funfoodienomads\n"
     ]
    }
   ],
   "source": [
    "# Search for Given Insta Holder Id and open his profile\n",
    "Search_and_Open_Profile('foodtalkindia')\n",
    "sleep(3)\n",
    "\n",
    "# Extract list of followers of foodtalkindia\n",
    "followers_of_foodtalkindia=Extract_list_of_followers()\n",
    "count=1\n",
    "for i in followers_of_foodtalkindia:\n",
    "    print(count,i)\n",
    "    count+=1"
   ]
  },
  {
   "cell_type": "code",
   "execution_count": 24,
   "id": "a1284dc1",
   "metadata": {},
   "outputs": [
    {
     "name": "stdout",
     "output_type": "stream",
     "text": [
      "['unicorn.995093', 'unicorn.995093', 'unicorn.995093', 'unicorn.995093', 'unicorn.995093', 'unicorn.995093', 'unicorn.995093', 'unicorn.995093', 'unicorn.995093', 'unicorn.995093', 'unicorn.995093', 'unicorn.995093', 'unicorn.995093', 'unicorn.995093', 'unicorn.995093', 'unicorn.995093', 'unicorn.995093', 'unicorn.995093', 'unicorn.995093', 'unicorn.995093', 'unicorn.995093', 'unicorn.995093', 'unicorn.995093', 'unicorn.995093', 'unicorn.995093', 'unicorn.995093', 'unicorn.995093', 'unicorn.995093', 'unicorn.995093', 'unicorn.995093', 'unicorn.995093', 'unicorn.995093', 'unicorn.995093', 'unicorn.995093', 'unicorn.995093', 'unicorn.995093', 'unicorn.995093', 'unicorn.995093', 'unicorn.995093', 'unicorn.995093', 'unicorn.995093', 'unicorn.995093', 'unicorn.995093', 'unicorn.995093', 'unicorn.995093', 'unicorn.995093', 'unicorn.995093', 'unicorn.995093', 'unicorn.995093', 'unicorn.995093']\n",
      "1 unicorn.995093\n",
      "2 unicorn.995093\n",
      "3 unicorn.995093\n",
      "4 unicorn.995093\n",
      "5 unicorn.995093\n",
      "6 unicorn.995093\n",
      "7 unicorn.995093\n",
      "8 unicorn.995093\n",
      "9 unicorn.995093\n",
      "10 unicorn.995093\n",
      "11 unicorn.995093\n",
      "12 unicorn.995093\n",
      "13 unicorn.995093\n",
      "14 unicorn.995093\n",
      "15 unicorn.995093\n",
      "16 unicorn.995093\n",
      "17 unicorn.995093\n",
      "18 unicorn.995093\n",
      "19 unicorn.995093\n",
      "20 unicorn.995093\n",
      "21 unicorn.995093\n",
      "22 unicorn.995093\n",
      "23 unicorn.995093\n",
      "24 unicorn.995093\n",
      "25 unicorn.995093\n",
      "26 unicorn.995093\n",
      "27 unicorn.995093\n",
      "28 unicorn.995093\n",
      "29 unicorn.995093\n",
      "30 unicorn.995093\n",
      "31 unicorn.995093\n",
      "32 unicorn.995093\n",
      "33 unicorn.995093\n",
      "34 unicorn.995093\n",
      "35 unicorn.995093\n",
      "36 unicorn.995093\n",
      "37 unicorn.995093\n",
      "38 unicorn.995093\n",
      "39 unicorn.995093\n",
      "40 unicorn.995093\n",
      "41 unicorn.995093\n",
      "42 unicorn.995093\n",
      "43 unicorn.995093\n",
      "44 unicorn.995093\n",
      "45 unicorn.995093\n",
      "46 unicorn.995093\n",
      "47 unicorn.995093\n",
      "48 unicorn.995093\n",
      "49 unicorn.995093\n",
      "50 unicorn.995093\n"
     ]
    }
   ],
   "source": [
    "# Search for Given Insta Holder Id and open his profile\n",
    "Search_and_Open_Profile('dilsefoodie')\n",
    "sleep(3)\n",
    "\n",
    "# Extract list of followers of sodelhi\n",
    "followers_of_sodelhi=Extract_list_of_followers()\n",
    "count=1\n",
    "for i in followers_of_sodelhi:\n",
    "    print(count,i)\n",
    "    count+=1"
   ]
  }
 ],
 "metadata": {
  "kernelspec": {
   "display_name": "Python 3 (ipykernel)",
   "language": "python",
   "name": "python3"
  },
  "language_info": {
   "codemirror_mode": {
    "name": "ipython",
    "version": 3
   },
   "file_extension": ".py",
   "mimetype": "text/x-python",
   "name": "python",
   "nbconvert_exporter": "python",
   "pygments_lexer": "ipython3",
   "version": "3.11.5"
  }
 },
 "nbformat": 4,
 "nbformat_minor": 5
}
